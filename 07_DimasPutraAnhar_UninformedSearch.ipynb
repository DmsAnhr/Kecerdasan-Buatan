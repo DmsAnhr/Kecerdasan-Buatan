{
  "nbformat": 4,
  "nbformat_minor": 0,
  "metadata": {
    "colab": {
      "provenance": [],
      "collapsed_sections": [],
      "authorship_tag": "ABX9TyMWBuNTYdD6zKVwb2tnMGR+",
      "include_colab_link": true
    },
    "kernelspec": {
      "name": "python3",
      "display_name": "Python 3"
    },
    "language_info": {
      "name": "python"
    }
  },
  "cells": [
    {
      "cell_type": "markdown",
      "metadata": {
        "id": "view-in-github",
        "colab_type": "text"
      },
      "source": [
        "<a href=\"https://colab.research.google.com/github/DmsAnhr/Kecerdasan-Buatan/blob/main/07_DimasPutraAnhar_UninformedSearch.ipynb\" target=\"_parent\"><img src=\"https://colab.research.google.com/assets/colab-badge.svg\" alt=\"Open In Colab\"/></a>"
      ]
    },
    {
      "cell_type": "markdown",
      "source": [
        "Nama  : Dimas Putra Anhar Wirjo Atmodjo <br>\n",
        "Kelas : 2B-TI / 07 <br>\n",
        "NIM   : 2141720258 \n",
        "<br><br>\n",
        "Percobaan 1"
      ],
      "metadata": {
        "id": "_RkOpKQQ8gHF"
      }
    },
    {
      "cell_type": "code",
      "execution_count": 7,
      "metadata": {
        "colab": {
          "base_uri": "https://localhost:8080/"
        },
        "id": "5Nfxb60O3SIN",
        "outputId": "ce3a78fc-7887-4cae-f9a4-cb594bec4afb"
      },
      "outputs": [
        {
          "output_type": "stream",
          "name": "stdout",
          "text": [
            "Hasil penulusuran graf  menggunakan BFS :\n",
            "A B C D E F H G "
          ]
        }
      ],
      "source": [
        "#     BFS\n",
        "graph = {\n",
        "    'A' : ['B','C'],\n",
        "    'B' : ['D','E'],\n",
        "    'C' : ['F'],\n",
        "    'D' : [],\n",
        "    'E' : ['F'],\n",
        "    'F' : ['H'],\n",
        "    'G' : ['H'],\n",
        "    'H' : ['G'],\n",
        "}\n",
        "\n",
        "visited   = []\n",
        "queue = []\n",
        "\n",
        "def bfs (visited, graph, node):\n",
        "  visited.append(node)\n",
        "  queue.append(node)\n",
        "\n",
        "  while queue:\n",
        "    s = queue.pop(0)\n",
        "    print (s, end = \" \")\n",
        "\n",
        "    for neighbour in graph[s]:\n",
        "      if neighbour not in visited:\n",
        "        visited.append(neighbour)\n",
        "        queue.append(neighbour)\n",
        "\n",
        "print(\"Hasil penulusuran graf  menggunakan BFS :\")\n",
        "bfs(visited, graph, 'A')"
      ]
    },
    {
      "cell_type": "markdown",
      "source": [
        "Percobaan 2"
      ],
      "metadata": {
        "id": "umm-LZH9C2CO"
      }
    },
    {
      "cell_type": "code",
      "source": [
        "#     DFS\n",
        "graph = {\n",
        "    'A': ['B', 'C'],\n",
        "    'B': ['D', 'E'],\n",
        "    'C': ['F'],\n",
        "    'D': [],\n",
        "    'E': ['F'],\n",
        "    'F': ['H'],\n",
        "    'G': ['H'],\n",
        "    'H': ['G'],\n",
        "}\n",
        "\n",
        "visited = set()\n",
        "\n",
        "\n",
        "def dfs(visited, graph, node):\n",
        "    if node not in visited:\n",
        "        print(node)\n",
        "        visited.add(node)\n",
        "        for neighbour in graph[node]:\n",
        "            dfs(visited, graph, neighbour)\n",
        "\n",
        "\n",
        "print(\"Hasil penulusuran graf menggunakan DFS :\")\n",
        "dfs(visited, graph, 'A')\n"
      ],
      "metadata": {
        "colab": {
          "base_uri": "https://localhost:8080/"
        },
        "id": "Ck2xFf-xAMWW",
        "outputId": "a750758e-8f4b-44eb-9a2f-1f30f61e4710"
      },
      "execution_count": 8,
      "outputs": [
        {
          "output_type": "stream",
          "name": "stdout",
          "text": [
            "Hasil penulusuran graf menggunakan DFS :\n",
            "A\n",
            "B\n",
            "D\n",
            "E\n",
            "F\n",
            "H\n",
            "G\n",
            "C\n"
          ]
        }
      ]
    },
    {
      "cell_type": "markdown",
      "source": [
        "<br><br>**Praktikum 1**"
      ],
      "metadata": {
        "id": "WN2_EUHsDYXE"
      }
    },
    {
      "cell_type": "code",
      "source": [
        "#     BFS\n",
        "graph = {\n",
        "    'A' : ['B','E','F'],\n",
        "    'B' : ['A','F','G'],\n",
        "    'C' : ['D','G'],\n",
        "    'D' : ['C','H'],\n",
        "    'E' : ['A','F'],\n",
        "    'F' : ['A','B','E'],\n",
        "    'G' : ['B','C','H'],\n",
        "    'H' : ['D','G'],\n",
        "}\n",
        "\n",
        "visited   = []\n",
        "queue = []\n",
        "\n",
        "def bfs (visited, graph, node):\n",
        "  visited.append(node)\n",
        "  queue.append(node)\n",
        "\n",
        "  while queue:\n",
        "    s = queue.pop(0)\n",
        "    print (s, end = \" \")\n",
        "\n",
        "    for neighbour in graph[s]:\n",
        "      if neighbour not in visited:\n",
        "        visited.append(neighbour)\n",
        "        queue.append(neighbour)\n",
        "\n",
        "print(\"Hasil penulusuran graf  menggunakan BFS :\")\n",
        "bfs(visited, graph, 'A')\n",
        "\n",
        "#                      DFS\n",
        "visited = set()\n",
        "def dfs(visited, graph, node):\n",
        "    if node not in visited:\n",
        "        print(node)\n",
        "        visited.add(node)\n",
        "        for neighbour in graph[node]:\n",
        "            dfs(visited, graph, neighbour)\n",
        "\n",
        "\n",
        "print(\"\\nHasil penulusuran graf menggunakan DFS :\")\n",
        "dfs(visited, graph, 'A')"
      ],
      "metadata": {
        "colab": {
          "base_uri": "https://localhost:8080/"
        },
        "id": "V-KzrspSDX_7",
        "outputId": "c4f7458c-1130-491f-a74c-0a20dbe21672"
      },
      "execution_count": 15,
      "outputs": [
        {
          "output_type": "stream",
          "name": "stdout",
          "text": [
            "Hasil penulusuran graf  menggunakan BFS :\n",
            "A B E F G C H D \n",
            "Hasil penulusuran graf menggunakan DFS :\n",
            "A\n",
            "B\n",
            "F\n",
            "E\n",
            "G\n",
            "C\n",
            "D\n",
            "H\n"
          ]
        }
      ]
    },
    {
      "cell_type": "markdown",
      "source": [
        "<br><br>**Praktikum 2**"
      ],
      "metadata": {
        "id": "bj70qCG3ZSGW"
      }
    },
    {
      "cell_type": "code",
      "source": [
        "#     BFS\n",
        "graph = {\n",
        "    'A' : ['B'],\n",
        "    'B' : ['F','G'],\n",
        "    'C' : ['D','G'],\n",
        "    'D' : ['C','H'],\n",
        "    'E' : ['F'],\n",
        "    'F' : ['B','E'],\n",
        "    'G' : ['B','C'],\n",
        "    'H' : ['D'],\n",
        "}\n",
        "\n",
        "visited   = []\n",
        "queue = []\n",
        "\n",
        "def bfs (visited, graph, target):\n",
        "  visited.append('A')\n",
        "  queue.append('A')\n",
        "  \n",
        "  while queue:\n",
        "    s = queue.pop(0)\n",
        "    print (s, end = \" \")\n",
        "    if s == target:\n",
        "      print(\"\\nBerhasil Mencari \"+target)\n",
        "      return\n",
        "    for neighbour in graph[s]:\n",
        "      if neighbour not in visited:\n",
        "        visited.append(neighbour)\n",
        "        queue.append(neighbour)\n",
        "\n",
        "print(\"Mencari D  menggunakan BFS :\")\n",
        "bfs(visited, graph, 'D')\n",
        "\n",
        "#              DFS\n",
        "visited = set()\n",
        "\n",
        "def dfs(visited, graph, node, target):\n",
        "    if node not in visited:\n",
        "        print(node)\n",
        "        visited.add(node)\n",
        "        if node == target:\n",
        "          print(\"\\nBerhasil Mencari \"+target)\n",
        "          return\n",
        "        for neighbour in graph[node]:\n",
        "            dfs(visited, graph, neighbour, target)\n",
        "\n",
        "print(\"\\nHasil penulusuran graf menggunakan DFS :\")\n",
        "dfs(visited, graph, 'A', 'D')"
      ],
      "metadata": {
        "colab": {
          "base_uri": "https://localhost:8080/"
        },
        "id": "5MK2-tVBU5wR",
        "outputId": "79139a97-3faf-46fb-a1de-50ea07b95669"
      },
      "execution_count": 22,
      "outputs": [
        {
          "output_type": "stream",
          "name": "stdout",
          "text": [
            "Mencari D  menggunakan BFS :\n",
            "A B F G E C D \n",
            "Berhasil Mencari D\n",
            "\n",
            "Hasil penulusuran graf menggunakan DFS :\n",
            "A\n",
            "B\n",
            "F\n",
            "E\n",
            "G\n",
            "C\n",
            "D\n",
            "\n",
            "Berhasil Mencari D\n"
          ]
        }
      ]
    }
  ]
}